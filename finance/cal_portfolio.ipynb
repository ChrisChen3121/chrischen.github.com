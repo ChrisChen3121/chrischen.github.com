{
 "cells": [
  {
   "cell_type": "code",
   "execution_count": 4,
   "metadata": {},
   "outputs": [
    {
     "name": "stdout",
     "output_type": "stream",
     "text": [
      "0.4.1\n"
     ]
    }
   ],
   "source": [
    "import numpy as np\n",
    "import pandas as pd\n",
    "import pandas_datareader as pdr\n",
    "print(pdr.__version__)"
   ]
  },
  {
   "cell_type": "code",
   "execution_count": 5,
   "metadata": {},
   "outputs": [
    {
     "data": {
      "text/plain": [
       "(0.00065991796194185169,\n",
       " 0.010167048815645972,\n",
       " 1.0303749955341162,\n",
       " 0.16488308056504186)"
      ]
     },
     "execution_count": 5,
     "metadata": {},
     "output_type": "execute_result"
    }
   ],
   "source": [
    "def cal_portfolio_performance(close_s):\n",
    "    daily_return = close_s.pct_change()\n",
    "    mean = daily_return.mean()\n",
    "    std = daily_return.std(ddof=0)\n",
    "    cum_return = close_s[-1] / close_s[0] - 1\n",
    "    # mean = cum_return / 252.0\n",
    "    sharpe = mean / std * np.sqrt(len(daily_return))\n",
    "    return mean, std, sharpe, cum_return\n",
    "\n",
    "def simulate(start, end, symbols, allocations):\n",
    "    assert len(symbols) == len(allocations)\n",
    "    quote_panel = pdr.get_data_yahoo(symbols, start=start, end=end)\n",
    "    quotes = quote_panel.to_frame()\n",
    "    quotes = quotes['Adj Close'].unstack()[symbols].sort_index()\n",
    "    \n",
    "    pct_changes = quotes.pct_change().fillna(0)\n",
    "    normalized_quote = (pct_changes + 1).cumprod()\n",
    "    portfolio_quote = normalized_quote * allocations\n",
    "    portfolio_quote = portfolio_quote.sum(axis=1)\n",
    "    return cal_portfolio_performance(portfolio_quote)\n",
    "\n",
    "simulate(\"20110101\", \"20111231\", ['AAPL', 'GLD', 'GOOG', 'XOM'], [0.4, 0.4, 0.0, 0.2])"
   ]
  }
 ],
 "metadata": {
  "kernelspec": {
   "display_name": "Python 2",
   "language": "python",
   "name": "python2"
  },
  "language_info": {
   "codemirror_mode": {
    "name": "ipython",
    "version": 2
   },
   "file_extension": ".py",
   "mimetype": "text/x-python",
   "name": "python",
   "nbconvert_exporter": "python",
   "pygments_lexer": "ipython2",
   "version": "2.7.13"
  }
 },
 "nbformat": 4,
 "nbformat_minor": 2
}
